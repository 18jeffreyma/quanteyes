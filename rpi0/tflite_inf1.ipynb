{
 "cells": [
  {
   "cell_type": "code",
   "execution_count": 1,
   "metadata": {},
   "outputs": [
    {
     "name": "stderr",
     "output_type": "stream",
     "text": [
      "2023-11-23 07:48:48.458726: I tensorflow/core/util/port.cc:110] oneDNN custom operations are on. You may see slightly different numerical results due to floating-point round-off errors from different computation orders. To turn them off, set the environment variable `TF_ENABLE_ONEDNN_OPTS=0`.\n",
      "2023-11-23 07:48:48.478574: I tensorflow/core/platform/cpu_feature_guard.cc:182] This TensorFlow binary is optimized to use available CPU instructions in performance-critical operations.\n",
      "To enable the following instructions: AVX2 AVX_VNNI FMA, in other operations, rebuild TensorFlow with the appropriate compiler flags.\n",
      "2023-11-23 07:48:48.750639: W tensorflow/compiler/tf2tensorrt/utils/py_utils.cc:38] TF-TRT Warning: Could not find TensorRT\n"
     ]
    }
   ],
   "source": [
    "import os\n",
    "import re\n",
    "\n",
    "import numpy as np\n",
    "from PIL import Image\n",
    "import tensorflow as tf\n",
    "# from tflite_micro_runtime.interpreter import Interpreter as tflm_Interpreter\n",
    "tflm_Interpreter = tf.lite.Interpreter\n",
    "\n",
    "from quanteyes.dataloader.dataset_tf import get_zipped_dataset\n",
    "from quanteyes.training_tf.utils import DATA_PATHS"
   ]
  },
  {
   "cell_type": "code",
   "execution_count": 2,
   "metadata": {},
   "outputs": [
    {
     "name": "stderr",
     "output_type": "stream",
     "text": [
      "INFO: Created TensorFlow Lite XNNPACK delegate for CPU.\n"
     ]
    }
   ],
   "source": [
    "tf_model_path = '../model_export/q-int8_d-2bit-octree.tflite'\n",
    "interpreter = tflm_Interpreter(tf_model_path)\n",
    "interpreter.allocate_tensors()"
   ]
  },
  {
   "cell_type": "code",
   "execution_count": 3,
   "metadata": {},
   "outputs": [],
   "source": [
    "# Get input and output tensors\n",
    "input_details = interpreter.get_input_details()[0]\n",
    "output_details = interpreter.get_output_details()[0]\n",
    "\n",
    "input_tensor_index = input_details[\"index\"]\n",
    "output = interpreter.get_tensor(output_details[\"index\"])\n",
    "\n",
    "mse = 0.0\n",
    "avg_cosine_similarity = 0.0\n",
    "num_examples = 100\n",
    "# it = iter(val_dataset.batch(1).take(num_examples))"
   ]
  },
  {
   "cell_type": "code",
   "execution_count": 9,
   "metadata": {},
   "outputs": [],
   "source": [
    "img = Image.open('test.png')\n",
    "input_data = np.array(img)\n",
    "input_data = np.expand_dims(input_data, axis=0)\n",
    "input_data = np.expand_dims(input_data, axis=-1)"
   ]
  },
  {
   "cell_type": "code",
   "execution_count": 8,
   "metadata": {},
   "outputs": [
    {
     "name": "stdout",
     "output_type": "stream",
     "text": [
      "[[0 0 0]] [0 0 0]\n"
     ]
    }
   ],
   "source": [
    "img_array = input_data\n",
    "\n",
    "input_scale, input_zero_point = input_details[\"quantization\"]\n",
    "if (input_scale, input_zero_point) != (0.0, 0):\n",
    "\timg_array = np.multiply(img_array, 1.0 / input_scale) + input_zero_point\n",
    "img_array = img_array.astype(input_details[\"dtype\"])\n",
    "\n",
    "interpreter.set_tensor(input_tensor_index, img_array)\n",
    "interpreter.invoke()\n",
    "pred = output[0]\n",
    "\n",
    "print(output, pred)\n",
    "\n",
    "# If required, dequantized the output layer (from integer to float)\n",
    "output_scale, output_zero_point = output_details[\"quantization\"]\n",
    "if (output_scale, output_zero_point) != (0.0, 0):\n",
    "\tpred = pred.astype(np.float32)\n",
    "\tpred = np.multiply((pred - output_zero_point), output_scale)\n",
    "\n",
    "# Compute cosine similarity.\n",
    "y_pred = pred.astype(np.float32)"
   ]
  }
 ],
 "metadata": {
  "kernelspec": {
   "display_name": "py11",
   "language": "python",
   "name": "python3"
  },
  "language_info": {
   "codemirror_mode": {
    "name": "ipython",
    "version": 3
   },
   "file_extension": ".py",
   "mimetype": "text/x-python",
   "name": "python",
   "nbconvert_exporter": "python",
   "pygments_lexer": "ipython3",
   "version": "3.11.4"
  }
 },
 "nbformat": 4,
 "nbformat_minor": 2
}
