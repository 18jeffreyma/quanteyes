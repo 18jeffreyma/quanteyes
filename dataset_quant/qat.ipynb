{
 "cells": [
  {
   "cell_type": "code",
   "execution_count": 5,
   "metadata": {},
   "outputs": [],
   "source": [
    "import tempfile\n",
    "import os\n",
    "\n",
    "import tensorflow as tf\n",
    "\n",
    "from tensorflow import keras\n",
    "from quanteyes.dataloader.dataset_tf import get_zipped_dataset"
   ]
  },
  {
   "cell_type": "code",
   "execution_count": 9,
   "metadata": {},
   "outputs": [
    {
     "name": "stdout",
     "output_type": "stream",
     "text": [
      "1000/1000 [==============================] - 58s 57ms/step - loss: -31.7921 - mse: 0.0699 - cosine_similarity: 0.9935 - val_loss: -31.1789 - val_mse: 0.2215 - val_cosine_similarity: 0.9743\n"
     ]
    },
    {
     "data": {
      "text/plain": [
       "<keras.src.callbacks.History at 0x7f8003159a10>"
      ]
     },
     "execution_count": 9,
     "metadata": {},
     "output_type": "execute_result"
    }
   ],
   "source": [
    "# Load MNIST dataset\n",
    "# mnist = keras.datasets.mnist\n",
    "# (train_images, train_labels), (test_images, test_labels) = mnist.load_data()\n",
    "base_path = \"/mnt/sdb/data/Openedsdata2020/openEDS2020-GazePrediction-1bit-otsu\"\n",
    "train_dataset = get_zipped_dataset(f\"{base_path}/train\", train=True).shuffle(1000)\n",
    "val_dataset = get_zipped_dataset(f\"{base_path}/validation\", train=False).shuffle(\n",
    "\t1000\n",
    ")\n",
    "\n",
    "# Normalize the input image so that each pixel value is between 0 to 1.\n",
    "train_images = train_images / 255.0\n",
    "test_images = test_images / 255.0\n",
    "\n",
    "# Define the model architecture.\n",
    "model = keras.Sequential(\n",
    "\t[\n",
    "\t\tkeras.layers.Conv2D(\n",
    "\t\t\t16,\n",
    "\t\t\t(3, 3),\n",
    "\t\t\tactivation=\"relu\",\n",
    "\t\t\tinput_shape=(200, 320, 1),\n",
    "\t\t\tpadding=\"same\",\n",
    "\t\t),\n",
    "\t\tkeras.layers.MaxPooling2D((2, 2)),\n",
    "\t\tkeras.layers.Conv2D(32, (3, 3), activation=\"relu\", padding=\"same\"),\n",
    "\t\tkeras.layers.MaxPooling2D((2, 2)),\n",
    "\t\tkeras.layers.Flatten(),\n",
    "\t\tkeras.layers.Dense(64, activation=\"relu\"),\n",
    "\t\tkeras.layers.Dense(3),\n",
    "\t]\n",
    ")\n",
    "\n",
    "# Train the digit classification model\n",
    "model.compile(\n",
    "        optimizer=tf.keras.optimizers.Adam(learning_rate=1e-5),\n",
    "        loss=tf.keras.losses.CosineSimilarity(\n",
    "            axis=1, reduction=tf.keras.losses.Reduction.SUM\n",
    "        ),\n",
    "        metrics=[\"mse\", \"cosine_similarity\"],\n",
    "    )"
   ]
  },
  {
   "cell_type": "code",
   "execution_count": null,
   "metadata": {},
   "outputs": [],
   "source": [
    "model.fit(\n",
    "  train_dataset.batch(32).repeat(10),\n",
    "  epochs=1,\n",
    "  steps_per_epoch=1000,\n",
    "  validation_data=val_dataset.batch(32).take(100),\n",
    ")"
   ]
  }
 ],
 "metadata": {
  "kernelspec": {
   "display_name": "py11",
   "language": "python",
   "name": "python3"
  },
  "language_info": {
   "codemirror_mode": {
    "name": "ipython",
    "version": 3
   },
   "file_extension": ".py",
   "mimetype": "text/x-python",
   "name": "python",
   "nbconvert_exporter": "python",
   "pygments_lexer": "ipython3",
   "version": "3.11.4"
  }
 },
 "nbformat": 4,
 "nbformat_minor": 2
}
