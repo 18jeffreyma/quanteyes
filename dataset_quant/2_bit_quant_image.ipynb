{
 "cells": [
  {
   "cell_type": "code",
   "execution_count": 113,
   "metadata": {},
   "outputs": [],
   "source": [
    "import os\n",
    "import torch\n",
    "import numpy as np\n",
    "import matplotlib.pyplot as plt\n",
    "from collections import Counter\n",
    "import scipy.signal as signal\n",
    "from sklearn.cluster import KMeans\n",
    "import circle_fit as cf\n",
    "from scipy import stats\n",
    "import multiprocessing as mp\n",
    "from torchvision import io\n",
    "from torchvision import utils\n",
    "import cv2\n",
    "from PIL import Image"
   ]
  },
  {
   "cell_type": "code",
   "execution_count": 3,
   "metadata": {},
   "outputs": [],
   "source": [
    "data_dir = '/mnt/sdb/data/Openedsdata2020/openEDS2020-GazePrediction/'\n",
    "out_dir = '/mnt/sdb/data/Openedsdata2020/openEDS2020-GazePrediction-2bit/'\n",
    "directories = os.listdir(data_dir)"
   ]
  },
  {
   "cell_type": "code",
   "execution_count": 5,
   "metadata": {},
   "outputs": [],
   "source": [
    "def uniform_quant(img):\n",
    "\timg = torch.where(img >= 0b10100000, 0b11000000, img)\n",
    "\timg = torch.where((img >= 0b01100000) & (img < 0b10100000), 0b10000000, img)\n",
    "\timg = torch.where((img >= 0b00100000) & (img < 0b01100000), 0b01000000, img)\n",
    "\timg = torch.where(img < 0b00100000, 0b00000000, img)\n",
    "\treturn img"
   ]
  },
  {
   "cell_type": "code",
   "execution_count": 6,
   "metadata": {},
   "outputs": [],
   "source": [
    "def manual_quant(img):\n",
    "\tblack_threshold = 42\n",
    "\tiris_threshold = 100\n",
    "\tskin_threshold = 210\n",
    "\n",
    "\tblack_color = 0\n",
    "\tiris_color = 70\n",
    "\tskin_color = 160\n",
    "\twhite_color = 255\n",
    "\t# first make the blacks 0\n",
    "\timg = torch.where(img < black_threshold, black_color, img)\n",
    "\t# make the iris color\n",
    "\timg = torch.where((img > black_threshold) & (img < iris_threshold), iris_color, img)\n",
    "\t# make the skin color\n",
    "\timg = torch.where((img > iris_threshold) & (img < skin_threshold), skin_color, img)\n",
    "\t# make the white color\n",
    "\timg = torch.where(img > skin_threshold, white_color, img)"
   ]
  },
  {
   "cell_type": "code",
   "execution_count": 7,
   "metadata": {},
   "outputs": [],
   "source": [
    "def peak_quant(img):\n",
    "\thist = Counter(img.flatten().tolist())\n",
    "\tx = list(range(255))\n",
    "\ty = [hist[i] if i in hist else 0 for i in x]\n",
    "\n",
    "\tpeak_x, peak_y = signal.find_peaks(y, height=100, distance=30)\n",
    "\tpeak_y = peak_y['peak_heights']\n",
    "\tif len(peak_y) > 3:\n",
    "\t\tind = np.argpartition(peak_y, -3)[-3:]\n",
    "\t\ttop4 = peak_x[ind].tolist()\n",
    "\t\ttop4.append(255)\n",
    "\telse:\n",
    "\t\ttop4 = peak_x.tolist()\n",
    "\t\ttop4.append(255)\n",
    "\ttop4 = np.sort(top4)\n",
    "\n",
    "\tbin_centers = (top4[1:]+top4[:-1])/2\n",
    "\timg_q = np.digitize(img, bin_centers, right=False)\n",
    "\timg_q = np.where(img_q == min(top4), 0, img_q)\n",
    "\treturn img_q\n",
    "\t# plt.figure()\n",
    "\t# plt.imshow(img_q, cmap='gray')\n",
    "\t# plot_hist(img_q)"
   ]
  },
  {
   "cell_type": "code",
   "execution_count": 116,
   "metadata": {},
   "outputs": [],
   "source": [
    "def kmeans_quant(img):\n",
    "\ttemp = img.clone().numpy()\n",
    "\ttemp = np.array([temp, np.zeros_like(temp), np.zeros_like(temp)])\n",
    "\tz = temp.reshape((-1,3))\n",
    "\n",
    "\t# convert to np.float32\n",
    "\tz = np.float32(z)\n",
    "\n",
    "\t# define criteria, number of clusters(K) and apply kmeans()\n",
    "\tcriteria = (cv2.TERM_CRITERIA_EPS + cv2.TERM_CRITERIA_MAX_ITER, 10, 1.0)\n",
    "\tK = 4\n",
    "\tret,label,center=cv2.kmeans(z,K,None,criteria,10,cv2.KMEANS_PP_CENTERS)\n",
    "\n",
    "\t# Convert back into uint8, and make original image\n",
    "\tcenter = np.uint8(center)\n",
    "\tres = center[label.flatten()]\n",
    "\tres2 = res.reshape((temp.shape))[0]\n",
    "\treturn res2"
   ]
  },
  {
   "cell_type": "code",
   "execution_count": 115,
   "metadata": {},
   "outputs": [
    {
     "name": "stdout",
     "output_type": "stream",
     "text": [
      "046.png /mnt/sdb/data/Openedsdata2020/openEDS2020-GazePrediction-2bit/train/sequences/6624\n"
     ]
    }
   ],
   "source": [
    "quant_scheme = 'kmeans'\n",
    "\n",
    "for data_type in ['train', 'validation', 'test']:\n",
    "\tdatatype_dir = os.path.join(data_dir, data_type, 'sequences')\n",
    "\tfor directory in os.listdir(datatype_dir):\n",
    "\t\tfor img_file in os.listdir(os.path.join(datatype_dir, directory)):\n",
    "\t\t\timg_path = os.path.join(datatype_dir, directory, img_file)\n",
    "\t\t\timg = io.read_image(img_path).to(torch.uint8)[0]\n",
    "\n",
    "\t\t\tmatch quant_scheme:\n",
    "\t\t\t\tcase 'uniform':\n",
    "\t\t\t\t\timg = uniform_quant(img)\n",
    "\n",
    "\t\t\t\tcase 'manual':\n",
    "\t\t\t\t\timg = manual_quant(img)\n",
    "\n",
    "\t\t\t\tcase 'peaks':\n",
    "\t\t\t\t\timg = peak_quant(img)\n",
    "\n",
    "\t\t\t\tcase 'kmeans':\n",
    "\t\t\t\t\timg = kmeans_quant(img)\n",
    "\t\t\t\t\t\n",
    "\t\t\timg = np.where(img == img.max(), 255, img).astype(np.uint8)\n",
    "\n",
    "\t\t\tout_temp_dir = os.path.join(out_dir, data_type, 'sequences', directory)\n",
    "\t\t\tprint(img_file, out_temp_dir)\n",
    "\t\t\tif not os.path.isdir(out_temp_dir):\n",
    "\t\t\t\tos.system(f'mkdir -p {out_temp_dir}')\n",
    "\t\t\tout_img_path = os.path.join(out_temp_dir, img_file)\n",
    "\n",
    "\t\t\timg = Image.fromarray(img)\n",
    "\t\t\timg.save(out_img_path)\n",
    "\n",
    "\t\t\t# utils.save_image(img, out_img_path)\n",
    "\t\t\t# plt.imshow(img.reshape(img.shape[1:]), cmap='gray')\n",
    "\t\t\tbreak\n",
    "\t\tbreak\n",
    "\tbreak\n"
   ]
  },
  {
   "cell_type": "code",
   "execution_count": null,
   "metadata": {},
   "outputs": [],
   "source": []
  }
 ],
 "metadata": {
  "kernelspec": {
   "display_name": "py11",
   "language": "python",
   "name": "python3"
  },
  "language_info": {
   "codemirror_mode": {
    "name": "ipython",
    "version": 3
   },
   "file_extension": ".py",
   "mimetype": "text/x-python",
   "name": "python",
   "nbconvert_exporter": "python",
   "pygments_lexer": "ipython3",
   "version": "3.11.4"
  }
 },
 "nbformat": 4,
 "nbformat_minor": 2
}
